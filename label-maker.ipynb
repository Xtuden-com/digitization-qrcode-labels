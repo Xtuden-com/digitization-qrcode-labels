{
 "cells": [
  {
   "cell_type": "markdown",
   "metadata": {},
   "source": [
    "# Creating labels for digitization workflow\n",
    "\n",
    "28 June 2019"
   ]
  },
  {
   "cell_type": "code",
   "execution_count": 1,
   "metadata": {},
   "outputs": [],
   "source": [
    "import segno\n",
    "import labels\n",
    "from uuid import uuid4\n",
    "from PIL import Image\n",
    "from reportlab.graphics import shapes"
   ]
  },
  {
   "cell_type": "markdown",
   "metadata": {},
   "source": [
    "### Generate identifier data"
   ]
  },
  {
   "cell_type": "code",
   "execution_count": 2,
   "metadata": {},
   "outputs": [],
   "source": [
    "# Decide how many identifiers to generate. Printing to Avery 6874 labels so multiples of 6 make it easy\n",
    "raw_ids = [uuid4() for x in range(1,31)]\n",
    "idstr = [f\"urn:uuid:{i}\" for i in raw_ids]\n",
    "human_str = [l[-6:] for l in idstr]\n",
    "l_contents = list(zip(idstr, human_str))"
   ]
  },
  {
   "cell_type": "markdown",
   "metadata": {},
   "source": [
    "### Generate QR codes\n",
    "\n",
    "Importing QR codes into label maker as images seems to be easiest so we make a temporary directory to save images to as we generate them."
   ]
  },
  {
   "cell_type": "code",
   "execution_count": 3,
   "metadata": {},
   "outputs": [],
   "source": [
    "import os, shutil, tempfile"
   ]
  },
  {
   "cell_type": "code",
   "execution_count": 4,
   "metadata": {},
   "outputs": [],
   "source": [
    "wd = tempfile.mkdtemp()"
   ]
  },
  {
   "cell_type": "code",
   "execution_count": 5,
   "metadata": {},
   "outputs": [
    {
     "data": {
      "text/plain": [
       "'/var/folders/sn/6tb9_wvj67v_8xlb_5_1q2r40000gp/T/tmpwedeqtva'"
      ]
     },
     "execution_count": 5,
     "metadata": {},
     "output_type": "execute_result"
    }
   ],
   "source": [
    "wd"
   ]
  },
  {
   "cell_type": "code",
   "execution_count": 6,
   "metadata": {},
   "outputs": [],
   "source": [
    "# Encode the urn as a QR code; use the last six characters as a human-readable label to name the file\n",
    "\n",
    "for tpl in l_contents:\n",
    "    machine,human = tpl\n",
    "    qr = segno.make_qr(machine)\n",
    "    qr.save(os.path.join(wd, f\"{human}.png\"), scale=3, background=None)"
   ]
  },
  {
   "cell_type": "markdown",
   "metadata": {},
   "source": [
    "### Set up label page"
   ]
  },
  {
   "cell_type": "code",
   "execution_count": 7,
   "metadata": {},
   "outputs": [],
   "source": [
    "specs = labels.Specification(215.9, 279.4, 2, 3, 95.25, 76.2)"
   ]
  },
  {
   "cell_type": "code",
   "execution_count": 8,
   "metadata": {},
   "outputs": [],
   "source": [
    "def write_content(label, width, height, filepath):\n",
    "    \n",
    "    # Create a shape for the QR code image and position it\n",
    "    im = Image.open(filepath)\n",
    "    imwidth, imheight = im.size\n",
    "    a = shapes.Image(((width/2.0) - (imwidth/2.0)), 45, imwidth, imheight, filepath)\n",
    "    \n",
    "    # Create a human-readable label and position it\n",
    "    human_readable = os.path.splitext(os.path.split(filepath)[1])[0]\n",
    "    b = shapes.String(width/2.0, 15, human_readable, textAnchor=\"middle\")\n",
    "    \n",
    "    # Create a space to write in a donor name\n",
    "    c = shapes.String(30, (height-30), \"Donor name: \")\n",
    "    \n",
    "    label.add(a)\n",
    "    label.add(b)\n",
    "    label.add(c)"
   ]
  },
  {
   "cell_type": "code",
   "execution_count": 9,
   "metadata": {},
   "outputs": [],
   "source": [
    "sheet = labels.Sheet(specs, write_content, border=True)"
   ]
  },
  {
   "cell_type": "code",
   "execution_count": 10,
   "metadata": {},
   "outputs": [],
   "source": [
    "files = [os.path.join(wd, f) for f in os.listdir(wd)]"
   ]
  },
  {
   "cell_type": "code",
   "execution_count": 11,
   "metadata": {},
   "outputs": [],
   "source": [
    "sheet.add_labels(files)"
   ]
  },
  {
   "cell_type": "markdown",
   "metadata": {},
   "source": [
    "Save the output to the current directory. To save somewhere else, supply a path."
   ]
  },
  {
   "cell_type": "code",
   "execution_count": 12,
   "metadata": {},
   "outputs": [],
   "source": [
    "sheet.save('labels.pdf')"
   ]
  },
  {
   "cell_type": "markdown",
   "metadata": {},
   "source": [
    "Clean up our temporary working directory …"
   ]
  },
  {
   "cell_type": "code",
   "execution_count": 13,
   "metadata": {},
   "outputs": [],
   "source": [
    "shutil.rmtree(wd)"
   ]
  }
 ],
 "metadata": {
  "kernelspec": {
   "display_name": "Python 3",
   "language": "python",
   "name": "python3"
  },
  "language_info": {
   "codemirror_mode": {
    "name": "ipython",
    "version": 3
   },
   "file_extension": ".py",
   "mimetype": "text/x-python",
   "name": "python",
   "nbconvert_exporter": "python",
   "pygments_lexer": "ipython3",
   "version": "3.7.3"
  }
 },
 "nbformat": 4,
 "nbformat_minor": 2
}
